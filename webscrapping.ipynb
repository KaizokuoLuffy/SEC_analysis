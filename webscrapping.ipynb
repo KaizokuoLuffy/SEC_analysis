import requests

# Making a GET request
r = requests.get('https://www.sec.gov/ix?doc=/Archives/edgar/data/0000104169/000010416924000056/wmt-20240131.htm')

# check status code for response received
# success code - 200
print(r)

# print content of request
print(r.content)
